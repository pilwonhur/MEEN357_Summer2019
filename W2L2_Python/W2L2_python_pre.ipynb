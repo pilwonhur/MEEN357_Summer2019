{
 "cells": [
  {
   "cell_type": "code",
   "execution_count": 1,
   "metadata": {},
   "outputs": [
    {
     "name": "stdout",
     "output_type": "stream",
     "text": [
      "1\n",
      "2\n",
      "3\n",
      "4\n",
      "5\n"
     ]
    }
   ],
   "source": [
    "a=range(1,4)\n",
    "b=[1,2,3,4,5]\n",
    "for i in b:\n",
    "    print(i)\n"
   ]
  },
  {
   "cell_type": "code",
   "execution_count": 2,
   "metadata": {},
   "outputs": [],
   "source": [
    "import math"
   ]
  },
  {
   "cell_type": "code",
   "execution_count": 3,
   "metadata": {
    "scrolled": true
   },
   "outputs": [],
   "source": [
    "dir(math);"
   ]
  },
  {
   "cell_type": "code",
   "execution_count": 4,
   "metadata": {
    "scrolled": true
   },
   "outputs": [],
   "source": [
    "import cmath\n",
    "dir(cmath);"
   ]
  },
  {
   "cell_type": "code",
   "execution_count": 5,
   "metadata": {},
   "outputs": [
    {
     "name": "stdout",
     "output_type": "stream",
     "text": [
      "3.141592653589793\n"
     ]
    }
   ],
   "source": [
    "from math import pi\n",
    "print(pi)"
   ]
  },
  {
   "cell_type": "code",
   "execution_count": 6,
   "metadata": {},
   "outputs": [
    {
     "data": {
      "text/plain": [
       "3.141592653589793"
      ]
     },
     "execution_count": 6,
     "metadata": {},
     "output_type": "execute_result"
    }
   ],
   "source": [
    "pi"
   ]
  },
  {
   "cell_type": "code",
   "execution_count": 7,
   "metadata": {},
   "outputs": [],
   "source": [
    "globals();"
   ]
  },
  {
   "cell_type": "code",
   "execution_count": 8,
   "metadata": {},
   "outputs": [],
   "source": [
    "locals();"
   ]
  },
  {
   "cell_type": "markdown",
   "metadata": {},
   "source": [
    "https://code.tutsplus.com/tutorials/what-are-python-namespaces-and-why-are-they-needed--cms-28598\n",
    "\n",
    "import math   -> loading the module math. I can use the namespace \n",
    "from math import pi\n",
    "from math import *\n",
    "\n",
    "namespace: all functions have unique names\n",
    "\n",
    "scope: how can we access the data? do we have permission?\n",
    "\n",
    "built-in Python dir() function to return a list of names in the current local scope. \n",
    "locals()\n",
    "globals()\n",
    "\n",
    "\n",
    "\n",
    "from module import *: This method of importing a module imports all the names from the given module directly in your current namespace. You might be tempted to use this method because it allows you to use a function directly without adding the name of the module as a prefix. However, it is very error prone, and you also lose the ability to tell which module actually imported that function. Here is an example of using this method:\n",
    "\n",
    "If you are familiar with the math and cmath modules, you already know that there are a few common names that are defined in both these modules but apply to real and complex numbers respectively. \n",
    "\n",
    "Since we have imported the cmath module after the math module, it overwrites the function definitions of these common functions from the math module. This is why the first log10(125) returns a real number and the second log10(125) returns a complex number. There is no way for you to use the log10() function from the math module now. Even if you tried typing math.log10(125), you will get a NameError exception because math does not actually exist in the namespace.\n",
    "\n",
    "The bottom line is that you should not use this way of importing functions from different modules just to save a few keystrokes.\n",
    "\n",
    "\n",
    "\n",
    "from module import nameA, nameB: If you know that you are only going to use one or two names from a module, you can import them directly using this method. This way, you can write the code more concisely while still keeping the namespace pollution to a minimum. However, keep in mind that you still cannot use any other name from the module by using module.nameZ. Any function that has the same name in your program will also overwrite the definition of that function imported from the module. This will make the imported function unusable. Here is an example of using this method:\n",
    "\n",
    "\n",
    "\n",
    "\n",
    "import module: This is the safest and recommended way of importing a module. The only downside is that you will have to prefix the name of the module to all the names that you are going to use in the program. However, you will be able to avoid namespace pollution and also define functions whose names match the name of functions from the module.\n"
   ]
  },
  {
   "cell_type": "code",
   "execution_count": 9,
   "metadata": {},
   "outputs": [
    {
     "data": {
      "text/plain": [
       "3.141592653589793"
      ]
     },
     "execution_count": 9,
     "metadata": {},
     "output_type": "execute_result"
    }
   ],
   "source": [
    "math.pi"
   ]
  },
  {
   "cell_type": "code",
   "execution_count": 10,
   "metadata": {},
   "outputs": [
    {
     "name": "stdout",
     "output_type": "stream",
     "text": [
      "pi=3.1416e+00\n"
     ]
    }
   ],
   "source": [
    "print('pi={:6.4e}'.format(pi))"
   ]
  },
  {
   "cell_type": "code",
   "execution_count": 11,
   "metadata": {},
   "outputs": [],
   "source": [
    "fo=open(\"test.txt\",\"a+\")\n",
    "fo.write(\"test1\")\n",
    "fo.write(\"test2\")\n",
    "fo.writelines([\"test3\",\"test4\",\"test5\"])\n",
    "fo.close()"
   ]
  },
  {
   "cell_type": "code",
   "execution_count": 12,
   "metadata": {},
   "outputs": [],
   "source": [
    "fo=open(\"test.txt\",\"a+\")\n",
    "fo.write(\"\\n\")\n",
    "fo.write(\"test6\\n\")\n",
    "fo.write(\"test7\\n\")\n",
    "fo.writelines([\"test8\\n\",\"test9\\n\",\"test10\\n\"])\n",
    "fo.close()"
   ]
  },
  {
   "cell_type": "code",
   "execution_count": 13,
   "metadata": {},
   "outputs": [],
   "source": [
    "fo=open(\"test.txt\",\"a+\")\n",
    "print(\"test11\\n\",\"test12\\n\",\"test13\\n\",file=fo)  # automatically attaches the white space between each element\n",
    "fo.close()"
   ]
  },
  {
   "cell_type": "code",
   "execution_count": 14,
   "metadata": {},
   "outputs": [
    {
     "data": {
      "text/plain": [
       "[1, 2]"
      ]
     },
     "execution_count": 14,
     "metadata": {},
     "output_type": "execute_result"
    }
   ],
   "source": [
    "def f1(p1,p2):\n",
    "    return [p1,p2]\n",
    "\n",
    "f1(1,2)"
   ]
  },
  {
   "cell_type": "code",
   "execution_count": 15,
   "metadata": {},
   "outputs": [
    {
     "name": "stdout",
     "output_type": "stream",
     "text": [
      "[1, 2, 3]\n",
      "[1, 2, 4]\n"
     ]
    }
   ],
   "source": [
    "def f2(p1,p2,p3=3):\n",
    "    return [p1,p2,p3]\n",
    "\n",
    "print(f2(1,2))\n",
    "print(f2(1,2,4))"
   ]
  },
  {
   "cell_type": "code",
   "execution_count": 16,
   "metadata": {},
   "outputs": [
    {
     "name": "stdout",
     "output_type": "stream",
     "text": [
      "[1, 2, ((3, 4),)]\n",
      "[1, 2, (3, 4)]\n",
      "[1, 2, 3]\n",
      "[1, 2, (3, 4, 5, 6, 7)]\n"
     ]
    }
   ],
   "source": [
    "def f3(p1,p2,*p3):\n",
    "    return [p1,p2,p3]\n",
    "\n",
    "def f4(p1,p2,*p3):\n",
    "    return [p1,p2,p3[0]]\n",
    "\n",
    "def f5(p1,p2,*p3):\n",
    "    return [p1,p2,p3[0][0]]\n",
    "\n",
    "\n",
    "print(f3(1,2,(3,4)))\n",
    "print(f4(1,2,(3,4)))\n",
    "print(f5(1,2,(3,4)))\n",
    "\n",
    "\n",
    "print(f3(1,2,3,4,5,6,7))"
   ]
  },
  {
   "cell_type": "code",
   "execution_count": 17,
   "metadata": {
    "scrolled": true
   },
   "outputs": [],
   "source": [
    "dir();"
   ]
  },
  {
   "cell_type": "code",
   "execution_count": 18,
   "metadata": {},
   "outputs": [],
   "source": [
    "locals();"
   ]
  },
  {
   "cell_type": "code",
   "execution_count": 19,
   "metadata": {
    "scrolled": true
   },
   "outputs": [],
   "source": [
    "globals();"
   ]
  },
  {
   "cell_type": "markdown",
   "metadata": {},
   "source": [
    "import example1\n",
    "example1.run()\n",
    "\n",
    "exec(open('example3.py').read())"
   ]
  },
  {
   "cell_type": "code",
   "execution_count": null,
   "metadata": {},
   "outputs": [],
   "source": []
  }
 ],
 "metadata": {
  "kernelspec": {
   "display_name": "Python 3",
   "language": "python",
   "name": "python3"
  },
  "language_info": {
   "codemirror_mode": {
    "name": "ipython",
    "version": 3
   },
   "file_extension": ".py",
   "mimetype": "text/x-python",
   "name": "python",
   "nbconvert_exporter": "python",
   "pygments_lexer": "ipython3",
   "version": "3.6.5"
  }
 },
 "nbformat": 4,
 "nbformat_minor": 2
}
